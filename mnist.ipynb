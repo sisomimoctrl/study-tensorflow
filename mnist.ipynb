{
  "nbformat": 4,
  "nbformat_minor": 0,
  "metadata": {
    "colab": {
      "name": "mnist.ipynb",
      "provenance": [],
      "collapsed_sections": [],
      "authorship_tag": "ABX9TyPBx/jU8QoWD8cwRL/Uxttz",
      "include_colab_link": true
    },
    "kernelspec": {
      "name": "python3",
      "display_name": "Python 3"
    },
    "language_info": {
      "name": "python"
    },
    "accelerator": "GPU"
  },
  "cells": [
    {
      "cell_type": "markdown",
      "metadata": {
        "id": "view-in-github",
        "colab_type": "text"
      },
      "source": [
        "<a href=\"https://colab.research.google.com/github/sisomimoctrl/study-tensorflow/blob/main/mnist.ipynb\" target=\"_parent\"><img src=\"https://colab.research.google.com/assets/colab-badge.svg\" alt=\"Open In Colab\"/></a>"
      ]
    },
    {
      "cell_type": "code",
      "execution_count": 1,
      "metadata": {
        "colab": {
          "base_uri": "https://localhost:8080/"
        },
        "id": "_ECdX9lCZ_1G",
        "outputId": "649cbc96-2295-44f6-cd1a-b8ce687720cd"
      },
      "outputs": [
        {
          "output_type": "stream",
          "name": "stdout",
          "text": [
            "2.8.2\n"
          ]
        }
      ],
      "source": [
        "import tensorflow as tf\n",
        "\n",
        "print(tf.__version__)"
      ]
    },
    {
      "cell_type": "code",
      "source": [
        "from tensorflow.keras.datasets import mnist\n",
        "\n",
        "(train_data, train_labels), (test_data, test_labels) = mnist.load_data()"
      ],
      "metadata": {
        "id": "zQ_L_8bhaEo8"
      },
      "execution_count": 2,
      "outputs": []
    },
    {
      "cell_type": "code",
      "source": [
        "print(train_data.shape, test_data.shape)\n",
        "print(type(train_data), type(test_data))\n",
        "print(type(train_data[0]), type(test_data[0]))"
      ],
      "metadata": {
        "colab": {
          "base_uri": "https://localhost:8080/"
        },
        "id": "aAtwppTWaiq7",
        "outputId": "b77284fb-ec95-4621-ac2c-fd516ccf0c50"
      },
      "execution_count": 3,
      "outputs": [
        {
          "output_type": "stream",
          "name": "stdout",
          "text": [
            "(60000, 28, 28) (10000, 28, 28)\n",
            "<class 'numpy.ndarray'> <class 'numpy.ndarray'>\n",
            "<class 'numpy.ndarray'> <class 'numpy.ndarray'>\n"
          ]
        }
      ]
    },
    {
      "cell_type": "code",
      "source": [
        "import matplotlib.pyplot as plt\n",
        "\n",
        "plt.imshow(train_data[0], cmap='gray')\n",
        "plt.show()"
      ],
      "metadata": {
        "colab": {
          "base_uri": "https://localhost:8080/",
          "height": 265
        },
        "id": "Z5xAocflanmQ",
        "outputId": "a871bd8c-216e-4d9d-8bf6-42f097945348"
      },
      "execution_count": 4,
      "outputs": [
        {
          "output_type": "display_data",
          "data": {
            "text/plain": [
              "<Figure size 432x288 with 1 Axes>"
            ],
            "image/png": "[encoded data removed]"
          },
          "metadata": {
            "needs_background": "light"
          }
        }
      ]
    },
    {
      "cell_type": "code",
      "source": [
        "plt.figure(figsize=(20,5))\n",
        "for i in range(16):\n",
        "    plt.subplot(2, 8, 1+i)\n",
        "    plt.title(train_labels[i])\n",
        "    plt.imshow(train_data[i], cmap='gray')\n",
        "    plt.xticks([]), plt.yticks([])\n",
        "\n",
        "plt.show()"
      ],
      "metadata": {
        "colab": {
          "base_uri": "https://localhost:8080/",
          "height": 317
        },
        "id": "nzuiit_qNS2-",
        "outputId": "3887824e-71b7-4f65-d76f-b7036c7e6cc5"
      },
      "execution_count": 5,
      "outputs": [
        {
          "output_type": "display_data",
          "data": {
            "text/plain": [
              "<Figure size 1440x360 with 16 Axes>"
            ],
            "image/png": "[encoded data removed]"
          },
          "metadata": {}
        }
      ]
    },
    {
      "cell_type": "code",
      "source": [
        "X_train = train_data.reshape(-1, 28*28)\n",
        "X_train = X_train / 255\n",
        "\n",
        "X_test = test_data.reshape(-1, 28*28)\n",
        "X_test = X_test / 255\n",
        "\n",
        "X_train.shape, X_test.shape"
      ],
      "metadata": {
        "colab": {
          "base_uri": "https://localhost:8080/"
        },
        "id": "MthImAtscTU_",
        "outputId": "943fb0f2-c9ef-41c1-d2a9-727926d183ba"
      },
      "execution_count": 6,
      "outputs": [
        {
          "output_type": "execute_result",
          "data": {
            "text/plain": [
              "((60000, 784), (10000, 784))"
            ]
          },
          "metadata": {},
          "execution_count": 6
        }
      ]
    },
    {
      "cell_type": "code",
      "source": [
        "print(train_labels.shape, test_labels.shape)\n",
        "print(type(train_labels), type(train_labels))\n",
        "print(type(train_labels[0]), type(test_labels[0]))\n",
        "print('train_labels : ', train_labels)"
      ],
      "metadata": {
        "colab": {
          "base_uri": "https://localhost:8080/"
        },
        "id": "yOiEiwCkbDhh",
        "outputId": "a33c1f42-0157-4d9c-90ea-1f642c6e60b3"
      },
      "execution_count": 7,
      "outputs": [
        {
          "output_type": "stream",
          "name": "stdout",
          "text": [
            "(60000,) (10000,)\n",
            "<class 'numpy.ndarray'> <class 'numpy.ndarray'>\n",
            "<class 'numpy.uint8'> <class 'numpy.uint8'>\n",
            "train_labels :  [5 0 4 ... 5 6 8]\n"
          ]
        }
      ]
    },
    {
      "cell_type": "code",
      "source": [
        "from tensorflow.keras.utils import to_categorical\n",
        "\n",
        "one_hot_train_labels = to_categorical(train_labels)\n",
        "one_hot_test_labels = to_categorical(test_labels)"
      ],
      "metadata": {
        "id": "lOwJwklIceJ7"
      },
      "execution_count": 8,
      "outputs": []
    },
    {
      "cell_type": "code",
      "source": [
        "one_hot_train_labels.shape, one_hot_test_labels.shape"
      ],
      "metadata": {
        "colab": {
          "base_uri": "https://localhost:8080/"
        },
        "id": "axn4fNBUc3Nc",
        "outputId": "6a0d53c0-631d-4076-bc92-8c27bd095ede"
      },
      "execution_count": 9,
      "outputs": [
        {
          "output_type": "execute_result",
          "data": {
            "text/plain": [
              "((60000, 10), (10000, 10))"
            ]
          },
          "metadata": {},
          "execution_count": 9
        }
      ]
    },
    {
      "cell_type": "code",
      "source": [
        "print(one_hot_train_labels)"
      ],
      "metadata": {
        "colab": {
          "base_uri": "https://localhost:8080/"
        },
        "id": "Wfp-6a5qdQz4",
        "outputId": "6d2f773f-6727-4528-dd9e-eef000ef993c"
      },
      "execution_count": 10,
      "outputs": [
        {
          "output_type": "stream",
          "name": "stdout",
          "text": [
            "[[0. 0. 0. ... 0. 0. 0.]\n",
            " [1. 0. 0. ... 0. 0. 0.]\n",
            " [0. 0. 0. ... 0. 0. 0.]\n",
            " ...\n",
            " [0. 0. 0. ... 0. 0. 0.]\n",
            " [0. 0. 0. ... 0. 0. 0.]\n",
            " [0. 0. 0. ... 0. 1. 0.]]\n"
          ]
        }
      ]
    },
    {
      "cell_type": "code",
      "source": [
        "from tensorflow.keras import models\n",
        "from tensorflow.keras import layers\n",
        "\n",
        "model = models.Sequential()\n",
        "model.add(layers.Dense(256, activation='relu', input_shape=(784,)))\n",
        "model.add(layers.Dense(256, activation='relu'))\n",
        "model.add(layers.Dense(10, activation='softmax'))\n",
        "\n",
        "model.summary()"
      ],
      "metadata": {
        "colab": {
          "base_uri": "https://localhost:8080/"
        },
        "id": "mwv2axEzdToX",
        "outputId": "30431d2d-258c-4750-a49e-fb39d1f36525"
      },
      "execution_count": 11,
      "outputs": [
        {
          "output_type": "stream",
          "name": "stdout",
          "text": [
            "Model: \"sequential\"\n",
            "_________________________________________________________________\n",
            " Layer (type)                Output Shape              Param #   \n",
            "=================================================================\n",
            " dense (Dense)               (None, 256)               200960    \n",
            "                                                                 \n",
            " dense_1 (Dense)             (None, 256)               65792     \n",
            "                                                                 \n",
            " dense_2 (Dense)             (None, 10)                2570      \n",
            "                                                                 \n",
            "=================================================================\n",
            "Total params: 269,322\n",
            "Trainable params: 269,322\n",
            "Non-trainable params: 0\n",
            "_________________________________________________________________\n"
          ]
        }
      ]
    },
    {
      "cell_type": "code",
      "source": [
        "model.compile(optimizer='rmsprop',\n",
        "              loss='categorical_crossentropy',\n",
        "              metrics=['accuracy'])"
      ],
      "metadata": {
        "id": "Dr1Wn3J0d3qr"
      },
      "execution_count": 12,
      "outputs": []
    },
    {
      "cell_type": "code",
      "source": [
        "X_val = X_train[:1000]\n",
        "partial_X_train = X_train[1000:]\n",
        "\n",
        "y_val = one_hot_train_labels[:1000]\n",
        "partial_y_train = one_hot_train_labels[1000:]"
      ],
      "metadata": {
        "id": "xMaBIeRLeGBx"
      },
      "execution_count": 13,
      "outputs": []
    },
    {
      "cell_type": "code",
      "source": [
        "history = model.fit(partial_X_train, \n",
        "                    partial_y_train,\n",
        "                    epochs=20,\n",
        "                    batch_size=512,\n",
        "                    validation_data=(X_val, y_val))"
      ],
      "metadata": {
        "colab": {
          "base_uri": "https://localhost:8080/"
        },
        "id": "J-zNaA8seXvV",
        "outputId": "d289b0fd-ee3c-472b-a5e4-00f73a253d58"
      },
      "execution_count": 14,
      "outputs": [
        {
          "output_type": "stream",
          "name": "stdout",
          "text": [
            "Epoch 1/20\n",
            "116/116 [==============================] - 3s 10ms/step - loss: 0.4114 - accuracy: 0.8794 - val_loss: 0.2777 - val_accuracy: 0.9150\n",
            "Epoch 2/20\n",
            "116/116 [==============================] - 1s 7ms/step - loss: 0.1634 - accuracy: 0.9514 - val_loss: 0.1639 - val_accuracy: 0.9560\n",
            "Epoch 3/20\n",
            "116/116 [==============================] - 1s 6ms/step - loss: 0.1079 - accuracy: 0.9673 - val_loss: 0.1438 - val_accuracy: 0.9570\n",
            "Epoch 4/20\n",
            "116/116 [==============================] - 1s 7ms/step - loss: 0.0782 - accuracy: 0.9762 - val_loss: 0.1181 - val_accuracy: 0.9600\n",
            "Epoch 5/20\n",
            "116/116 [==============================] - 1s 6ms/step - loss: 0.0591 - accuracy: 0.9815 - val_loss: 0.0883 - val_accuracy: 0.9730\n",
            "Epoch 6/20\n",
            "116/116 [==============================] - 1s 7ms/step - loss: 0.0470 - accuracy: 0.9855 - val_loss: 0.0969 - val_accuracy: 0.9700\n",
            "Epoch 7/20\n",
            "116/116 [==============================] - 1s 6ms/step - loss: 0.0359 - accuracy: 0.9888 - val_loss: 0.1308 - val_accuracy: 0.9650\n",
            "Epoch 8/20\n",
            "116/116 [==============================] - 0s 4ms/step - loss: 0.0284 - accuracy: 0.9907 - val_loss: 0.1147 - val_accuracy: 0.9660\n",
            "Epoch 9/20\n",
            "116/116 [==============================] - 0s 4ms/step - loss: 0.0237 - accuracy: 0.9925 - val_loss: 0.1066 - val_accuracy: 0.9760\n",
            "Epoch 10/20\n",
            "116/116 [==============================] - 0s 4ms/step - loss: 0.0178 - accuracy: 0.9949 - val_loss: 0.1090 - val_accuracy: 0.9690\n",
            "Epoch 11/20\n",
            "116/116 [==============================] - 0s 4ms/step - loss: 0.0152 - accuracy: 0.9953 - val_loss: 0.1281 - val_accuracy: 0.9690\n",
            "Epoch 12/20\n",
            "116/116 [==============================] - 0s 4ms/step - loss: 0.0124 - accuracy: 0.9963 - val_loss: 0.1144 - val_accuracy: 0.9730\n",
            "Epoch 13/20\n",
            "116/116 [==============================] - 0s 4ms/step - loss: 0.0099 - accuracy: 0.9971 - val_loss: 0.1143 - val_accuracy: 0.9760\n",
            "Epoch 14/20\n",
            "116/116 [==============================] - 0s 4ms/step - loss: 0.0087 - accuracy: 0.9972 - val_loss: 0.1090 - val_accuracy: 0.9780\n",
            "Epoch 15/20\n",
            "116/116 [==============================] - 0s 4ms/step - loss: 0.0068 - accuracy: 0.9979 - val_loss: 0.1079 - val_accuracy: 0.9730\n",
            "Epoch 16/20\n",
            "116/116 [==============================] - 0s 4ms/step - loss: 0.0061 - accuracy: 0.9981 - val_loss: 0.1253 - val_accuracy: 0.9760\n",
            "Epoch 17/20\n",
            "116/116 [==============================] - 0s 4ms/step - loss: 0.0055 - accuracy: 0.9982 - val_loss: 0.1219 - val_accuracy: 0.9800\n",
            "Epoch 18/20\n",
            "116/116 [==============================] - 0s 4ms/step - loss: 0.0049 - accuracy: 0.9987 - val_loss: 0.1255 - val_accuracy: 0.9760\n",
            "Epoch 19/20\n",
            "116/116 [==============================] - 0s 4ms/step - loss: 0.0036 - accuracy: 0.9988 - val_loss: 0.1237 - val_accuracy: 0.9790\n",
            "Epoch 20/20\n",
            "116/116 [==============================] - 0s 4ms/step - loss: 0.0038 - accuracy: 0.9989 - val_loss: 0.1455 - val_accuracy: 0.9770\n"
          ]
        }
      ]
    },
    {
      "cell_type": "code",
      "source": [
        "import matplotlib.pyplot as plt\n",
        "\n",
        "loss = history.history['loss']\n",
        "val_loss = history.history['val_loss']\n",
        "\n",
        "epochs = range(1, len(loss)+1)\n",
        "\n",
        "plt.plot(epochs, loss, 'bo', label='Training loss')\n",
        "plt.plot(epochs, val_loss, 'b', label='Validation loss')\n",
        "plt.title('Training and validation loss')\n",
        "plt.xlabel('Epochs')\n",
        "plt.ylabel('Loss')\n",
        "plt.legend()\n",
        "\n",
        "plt.show()"
      ],
      "metadata": {
        "colab": {
          "base_uri": "https://localhost:8080/",
          "height": 295
        },
        "id": "06Bf_qcGej4O",
        "outputId": "72f31695-350c-420e-b367-0e2a0d669685"
      },
      "execution_count": 15,
      "outputs": [
        {
          "output_type": "display_data",
          "data": {
            "text/plain": [
              "<Figure size 432x288 with 1 Axes>"
            ],
            "image/png": "[encoded data removed]"
          },
          "metadata": {
            "needs_background": "light"
          }
        }
      ]
    },
    {
      "cell_type": "code",
      "source": [
        "plt.clf()\n",
        "\n",
        "acc = history.history['accuracy']\n",
        "val_acc = history.history['val_accuracy']\n",
        "\n",
        "epochs = range(1, len(acc)+1)\n",
        "\n",
        "plt.plot(epochs, acc, 'bo', label='Training acc')\n",
        "plt.plot(epochs, val_acc, 'b', label='Validation acc')\n",
        "plt.title('Training and validation accuracy')\n",
        "plt.xlabel('Epochs')\n",
        "plt.ylabel('Accuracy')\n",
        "plt.legend()\n",
        "\n",
        "plt.show()"
      ],
      "metadata": {
        "colab": {
          "base_uri": "https://localhost:8080/",
          "height": 295
        },
        "id": "pfmohC38fJyC",
        "outputId": "07ceffbd-1d76-49e2-c09a-0e1ee9c844b5"
      },
      "execution_count": 16,
      "outputs": [
        {
          "output_type": "display_data",
          "data": {
            "text/plain": [
              "<Figure size 432x288 with 1 Axes>"
            ],
            "image/png": "[encoded data removed]"
          },
          "metadata": {
            "needs_background": "light"
          }
        }
      ]
    },
    {
      "cell_type": "code",
      "source": [
        "scores = model.evaluate(X_test, one_hot_test_labels)\n",
        "print(f'{model.metrics_names[1]} : {scores[1]*100:.2f} %')"
      ],
      "metadata": {
        "colab": {
          "base_uri": "https://localhost:8080/"
        },
        "id": "a1lz9A4Zfbnb",
        "outputId": "913352d1-d852-420f-eb81-e0e17fe05469"
      },
      "execution_count": 17,
      "outputs": [
        {
          "output_type": "stream",
          "name": "stdout",
          "text": [
            "313/313 [==============================] - 1s 3ms/step - loss: 0.1002 - accuracy: 0.9801\n",
            "accuracy : 98.01 %\n"
          ]
        }
      ]
    }
  ]
}