{
  "nbformat": 4,
  "nbformat_minor": 0,
  "metadata": {
    "colab": {
      "name": "mnist.ipynb의 사본",
      "provenance": [],
      "collapsed_sections": [],
      "authorship_tag": "ABX9TyPG8JlnWyH90QAJ8nJsAMhl",
      "include_colab_link": true
    },
    "kernelspec": {
      "name": "python3",
      "display_name": "Python 3"
    },
    "language_info": {
      "name": "python"
    },
    "accelerator": "GPU"
  },
  "cells": [
    {
      "cell_type": "markdown",
      "metadata": {
        "id": "view-in-github",
        "colab_type": "text"
      },
      "source": [
        "<a href=\"https://colab.research.google.com/github/sisomimoctrl/study-tensorflow/blob/main/mnist_cnn.ipynb\" target=\"_parent\"><img src=\"https://colab.research.google.com/assets/colab-badge.svg\" alt=\"Open In Colab\"/></a>"
      ]
    },
    {
      "cell_type": "code",
      "execution_count": 1,
      "metadata": {
        "colab": {
          "base_uri": "https://localhost:8080/"
        },
        "id": "_ECdX9lCZ_1G",
        "outputId": "02e7f699-d8f2-422f-ad26-455b08b35025"
      },
      "outputs": [
        {
          "output_type": "stream",
          "name": "stdout",
          "text": [
            "2.8.2\n"
          ]
        }
      ],
      "source": [
        "import tensorflow as tf\n",
        "\n",
        "print(tf.__version__)"
      ]
    },
    {
      "cell_type": "code",
      "source": [
        "from tensorflow.keras.datasets import mnist\n",
        "\n",
        "(train_data, train_targets), (test_data, test_targets) = mnist.load_data()"
      ],
      "metadata": {
        "id": "zQ_L_8bhaEo8"
      },
      "execution_count": 2,
      "outputs": []
    },
    {
      "cell_type": "code",
      "source": [
        "print(train_data.shape, test_data.shape)\n",
        "print(type(train_data), type(test_data))\n",
        "print(type(train_data[0]), type(test_data[0]))"
      ],
      "metadata": {
        "colab": {
          "base_uri": "https://localhost:8080/"
        },
        "id": "aAtwppTWaiq7",
        "outputId": "eeb6ec45-530f-4f37-cb8b-1883dd475a7f"
      },
      "execution_count": 3,
      "outputs": [
        {
          "output_type": "stream",
          "name": "stdout",
          "text": [
            "(60000, 28, 28) (10000, 28, 28)\n",
            "<class 'numpy.ndarray'> <class 'numpy.ndarray'>\n",
            "<class 'numpy.ndarray'> <class 'numpy.ndarray'>\n"
          ]
        }
      ]
    },
    {
      "cell_type": "code",
      "source": [
        "X_train = train_data.reshape(-1, 28, 28, 1) / 255\n",
        "X_test = test_data.reshape(-1, 28, 28, 1) / 255\n",
        "\n",
        "X_train.shape, X_test.shape"
      ],
      "metadata": {
        "colab": {
          "base_uri": "https://localhost:8080/"
        },
        "id": "MthImAtscTU_",
        "outputId": "0e68aa8f-d194-4f30-8605-3068eae8901f"
      },
      "execution_count": 4,
      "outputs": [
        {
          "output_type": "execute_result",
          "data": {
            "text/plain": [
              "((60000, 28, 28, 1), (10000, 28, 28, 1))"
            ]
          },
          "metadata": {},
          "execution_count": 4
        }
      ]
    },
    {
      "cell_type": "code",
      "source": [
        "print(train_targets.shape, test_targets.shape)\n",
        "print(type(train_targets))\n",
        "print('train_targets : ', train_targets)"
      ],
      "metadata": {
        "colab": {
          "base_uri": "https://localhost:8080/"
        },
        "id": "yOiEiwCkbDhh",
        "outputId": "95229fe9-cb9c-4b13-c1f3-44e9d955dacd"
      },
      "execution_count": 5,
      "outputs": [
        {
          "output_type": "stream",
          "name": "stdout",
          "text": [
            "(60000,) (10000,)\n",
            "<class 'numpy.ndarray'>\n",
            "train_targets :  [5 0 4 ... 5 6 8]\n"
          ]
        }
      ]
    },
    {
      "cell_type": "code",
      "source": [
        "y_train = train_targets\n",
        "y_test = test_targets"
      ],
      "metadata": {
        "id": "wwUNYnuc7FdI"
      },
      "execution_count": 6,
      "outputs": []
    },
    {
      "cell_type": "code",
      "source": [
        "from tensorflow.keras import models\n",
        "from tensorflow.keras import layers\n",
        "\n",
        "model = models.Sequential()\n",
        "model.add(layers.Conv2D(32, (3, 3), activation='relu', input_shape=(28, 28, 1)))\n",
        "model.add(layers.MaxPooling2D((2, 2)))\n",
        "model.add(layers.Conv2D(64, (3, 3), activation='relu'))\n",
        "model.add(layers.MaxPooling2D((2, 2)))\n",
        "model.add(layers.Conv2D(64, (3, 3), activation='relu'))\n",
        "model.add(layers.Flatten())\n",
        "model.add(layers.Dense(64, activation='relu'))\n",
        "model.add(layers.Dense(10, activation='softmax'))\n",
        "\n",
        "model.summary()"
      ],
      "metadata": {
        "colab": {
          "base_uri": "https://localhost:8080/"
        },
        "id": "mwv2axEzdToX",
        "outputId": "e7d0b713-027d-44dc-bcd7-ffc7483a15c9"
      },
      "execution_count": 7,
      "outputs": [
        {
          "output_type": "stream",
          "name": "stdout",
          "text": [
            "Model: \"sequential\"\n",
            "_________________________________________________________________\n",
            " Layer (type)                Output Shape              Param #   \n",
            "=================================================================\n",
            " conv2d (Conv2D)             (None, 26, 26, 32)        320       \n",
            "                                                                 \n",
            " max_pooling2d (MaxPooling2D  (None, 13, 13, 32)       0         \n",
            " )                                                               \n",
            "                                                                 \n",
            " conv2d_1 (Conv2D)           (None, 11, 11, 64)        18496     \n",
            "                                                                 \n",
            " max_pooling2d_1 (MaxPooling  (None, 5, 5, 64)         0         \n",
            " 2D)                                                             \n",
            "                                                                 \n",
            " conv2d_2 (Conv2D)           (None, 3, 3, 64)          36928     \n",
            "                                                                 \n",
            " flatten (Flatten)           (None, 576)               0         \n",
            "                                                                 \n",
            " dense (Dense)               (None, 64)                36928     \n",
            "                                                                 \n",
            " dense_1 (Dense)             (None, 10)                650       \n",
            "                                                                 \n",
            "=================================================================\n",
            "Total params: 93,322\n",
            "Trainable params: 93,322\n",
            "Non-trainable params: 0\n",
            "_________________________________________________________________\n"
          ]
        }
      ]
    },
    {
      "cell_type": "code",
      "source": [
        "model.compile(optimizer='rmsprop',\n",
        "              loss='sparse_categorical_crossentropy',\n",
        "              metrics=['accuracy'])"
      ],
      "metadata": {
        "id": "Dr1Wn3J0d3qr"
      },
      "execution_count": 8,
      "outputs": []
    },
    {
      "cell_type": "code",
      "source": [
        "history = model.fit(X_train, \n",
        "                    y_train,\n",
        "                    epochs=20,\n",
        "                    batch_size=512, \n",
        "                    validation_split=0.2)"
      ],
      "metadata": {
        "colab": {
          "base_uri": "https://localhost:8080/"
        },
        "id": "J-zNaA8seXvV",
        "outputId": "afd8a117-caec-45f6-cb56-e8106cf1f57e"
      },
      "execution_count": 9,
      "outputs": [
        {
          "output_type": "stream",
          "name": "stdout",
          "text": [
            "Epoch 1/20\n",
            "94/94 [==============================] - 7s 20ms/step - loss: 0.6272 - accuracy: 0.8030 - val_loss: 0.3418 - val_accuracy: 0.8908\n",
            "Epoch 2/20\n",
            "94/94 [==============================] - 1s 13ms/step - loss: 0.1617 - accuracy: 0.9517 - val_loss: 0.0937 - val_accuracy: 0.9749\n",
            "Epoch 3/20\n",
            "94/94 [==============================] - 1s 12ms/step - loss: 0.0897 - accuracy: 0.9718 - val_loss: 0.0626 - val_accuracy: 0.9822\n",
            "Epoch 4/20\n",
            "94/94 [==============================] - 1s 13ms/step - loss: 0.0613 - accuracy: 0.9807 - val_loss: 0.0620 - val_accuracy: 0.9823\n",
            "Epoch 5/20\n",
            "94/94 [==============================] - 1s 13ms/step - loss: 0.0472 - accuracy: 0.9850 - val_loss: 0.0470 - val_accuracy: 0.9866\n",
            "Epoch 6/20\n",
            "94/94 [==============================] - 1s 12ms/step - loss: 0.0383 - accuracy: 0.9877 - val_loss: 0.0603 - val_accuracy: 0.9829\n",
            "Epoch 7/20\n",
            "94/94 [==============================] - 1s 13ms/step - loss: 0.0313 - accuracy: 0.9904 - val_loss: 0.0416 - val_accuracy: 0.9889\n",
            "Epoch 8/20\n",
            "94/94 [==============================] - 1s 13ms/step - loss: 0.0263 - accuracy: 0.9918 - val_loss: 0.0411 - val_accuracy: 0.9886\n",
            "Epoch 9/20\n",
            "94/94 [==============================] - 1s 13ms/step - loss: 0.0231 - accuracy: 0.9928 - val_loss: 0.0442 - val_accuracy: 0.9875\n",
            "Epoch 10/20\n",
            "94/94 [==============================] - 1s 13ms/step - loss: 0.0177 - accuracy: 0.9941 - val_loss: 0.0397 - val_accuracy: 0.9892\n",
            "Epoch 11/20\n",
            "94/94 [==============================] - 1s 12ms/step - loss: 0.0156 - accuracy: 0.9949 - val_loss: 0.0545 - val_accuracy: 0.9852\n",
            "Epoch 12/20\n",
            "94/94 [==============================] - 1s 13ms/step - loss: 0.0141 - accuracy: 0.9954 - val_loss: 0.0467 - val_accuracy: 0.9863\n",
            "Epoch 13/20\n",
            "94/94 [==============================] - 1s 13ms/step - loss: 0.0117 - accuracy: 0.9961 - val_loss: 0.0367 - val_accuracy: 0.9908\n",
            "Epoch 14/20\n",
            "94/94 [==============================] - 1s 13ms/step - loss: 0.0099 - accuracy: 0.9964 - val_loss: 0.0406 - val_accuracy: 0.9899\n",
            "Epoch 15/20\n",
            "94/94 [==============================] - 1s 13ms/step - loss: 0.0089 - accuracy: 0.9972 - val_loss: 0.0340 - val_accuracy: 0.9920\n",
            "Epoch 16/20\n",
            "94/94 [==============================] - 1s 13ms/step - loss: 0.0073 - accuracy: 0.9977 - val_loss: 0.0376 - val_accuracy: 0.9916\n",
            "Epoch 17/20\n",
            "94/94 [==============================] - 1s 13ms/step - loss: 0.0071 - accuracy: 0.9977 - val_loss: 0.0406 - val_accuracy: 0.9908\n",
            "Epoch 18/20\n",
            "94/94 [==============================] - 1s 13ms/step - loss: 0.0056 - accuracy: 0.9983 - val_loss: 0.0449 - val_accuracy: 0.9899\n",
            "Epoch 19/20\n",
            "94/94 [==============================] - 1s 13ms/step - loss: 0.0051 - accuracy: 0.9983 - val_loss: 0.0475 - val_accuracy: 0.9898\n",
            "Epoch 20/20\n",
            "94/94 [==============================] - 1s 13ms/step - loss: 0.0041 - accuracy: 0.9989 - val_loss: 0.0446 - val_accuracy: 0.9901\n"
          ]
        }
      ]
    },
    {
      "cell_type": "code",
      "source": [
        "import matplotlib.pyplot as plt\n",
        "\n",
        "loss = history.history['loss']\n",
        "val_loss = history.history['val_loss']\n",
        "\n",
        "epochs = range(1, len(loss)+1)\n",
        "\n",
        "plt.plot(epochs, loss, 'bo', label='Training loss')\n",
        "plt.plot(epochs, val_loss, 'b', label='Validation loss')\n",
        "plt.title('Training and validation loss')\n",
        "plt.xlabel('Epochs')\n",
        "plt.ylabel('Loss')\n",
        "plt.legend()\n",
        "\n",
        "plt.show()"
      ],
      "metadata": {
        "colab": {
          "base_uri": "https://localhost:8080/",
          "height": 295
        },
        "id": "06Bf_qcGej4O",
        "outputId": "bf74eee6-5bff-469e-b845-85e6530aa2cc"
      },
      "execution_count": 10,
      "outputs": [
        {
          "output_type": "display_data",
          "data": {
            "text/plain": [
              "<Figure size 432x288 with 1 Axes>"
            ],
            "image/png": "[encoded data removed]"
          },
          "metadata": {
            "needs_background": "light"
          }
        }
      ]
    },
    {
      "cell_type": "code",
      "source": [
        "plt.clf()\n",
        "\n",
        "acc = history.history['accuracy']\n",
        "val_acc = history.history['val_accuracy']\n",
        "\n",
        "epochs = range(1, len(acc)+1)\n",
        "\n",
        "plt.plot(epochs, acc, 'bo', label='Training acc')\n",
        "plt.plot(epochs, val_acc, 'b', label='Validation acc')\n",
        "plt.title('Training and validation accuracy')\n",
        "plt.xlabel('Epochs')\n",
        "plt.ylabel('Accuracy')\n",
        "plt.legend()\n",
        "\n",
        "plt.show()"
      ],
      "metadata": {
        "colab": {
          "base_uri": "https://localhost:8080/",
          "height": 295
        },
        "id": "pfmohC38fJyC",
        "outputId": "1de51c37-72e8-4bfa-bc69-20f80d96ce0f"
      },
      "execution_count": 11,
      "outputs": [
        {
          "output_type": "display_data",
          "data": {
            "text/plain": [
              "<Figure size 432x288 with 1 Axes>"
            ],
            "image/png": "[encoded data removed]"
          },
          "metadata": {
            "needs_background": "light"
          }
        }
      ]
    },
    {
      "cell_type": "code",
      "source": [
        "scores = model.evaluate(X_test, y_test)\n",
        "print(f'{model.metrics_names[1]} : {scores[1]*100:.2f} %')"
      ],
      "metadata": {
        "colab": {
          "base_uri": "https://localhost:8080/"
        },
        "id": "a1lz9A4Zfbnb",
        "outputId": "90c3cea7-477a-4500-a793-202194a3733b"
      },
      "execution_count": 12,
      "outputs": [
        {
          "output_type": "stream",
          "name": "stdout",
          "text": [
            "313/313 [==============================] - 1s 3ms/step - loss: 0.0317 - accuracy: 0.9920\n",
            "accuracy : 99.20 %\n"
          ]
        }
      ]
    },
    {
      "cell_type": "code",
      "source": [
        ""
      ],
      "metadata": {
        "id": "xAJDzm0Z7hM8"
      },
      "execution_count": 12,
      "outputs": []
    }
  ]
}